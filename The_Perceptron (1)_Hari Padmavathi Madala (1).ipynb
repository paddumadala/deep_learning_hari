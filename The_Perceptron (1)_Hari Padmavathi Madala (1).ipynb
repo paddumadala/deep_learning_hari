{
 "cells": [
  {
   "cell_type": "markdown",
   "metadata": {
    "id": "vYiZq0X2oB5t"
   },
   "source": [
    "# **CSCE 5218 / CSCE 4930 Deep Learning**\n",
    "\n",
    "# **The Perceptron** (20 pt)\n"
   ]
  },
  {
   "cell_type": "code",
   "execution_count": 8,
   "metadata": {
    "colab": {
     "base_uri": "https://localhost:8080/"
    },
    "id": "vGVmKzgG2Ium",
    "outputId": "4cc2ca21-861a-4fba-a38c-83e3ec04bec8",
    "scrolled": true
   },
   "outputs": [
    {
     "name": "stderr",
     "output_type": "stream",
     "text": [
      "  % Total    % Received % Xferd  Average Speed   Time    Time     Time  Current\n",
      "                                 Dload  Upload   Total   Spent    Left  Speed\n",
      "\n",
      "  0     0    0     0    0     0      0      0 --:--:-- --:--:-- --:--:--     0\n",
      "  0     0    0     0    0     0      0      0 --:--:-- --:--:-- --:--:--     0\n",
      "100   136  100   136    0     0    921      0 --:--:-- --:--:-- --:--:--   944\n",
      "  % Total    % Received % Xferd  Average Speed   Time    Time     Time  Current\n",
      "                                 Dload  Upload   Total   Spent    Left  Speed\n",
      "\n",
      "  0     0    0     0    0     0      0      0 --:--:-- --:--:-- --:--:--     0\n",
      "100 11645  100 11645    0     0  52470      0 --:--:-- --:--:-- --:--:-- 53173\n"
     ]
    }
   ],
   "source": [
    "# Get the datasets\n",
    "!curl --output test.dat https://raw.githubusercontent.com/huangyanann/CSCE5218/main/test_small.txt\n",
    "!curl --output train.dat https://raw.githubusercontent.com/huangyanann/CSCE5218/main/train.txt\n",
    "\n"
   ]
  },
  {
   "cell_type": "code",
   "execution_count": 10,
   "metadata": {
    "colab": {
     "base_uri": "https://localhost:8080/"
    },
    "id": "A69DxPSc8vNs",
    "outputId": "5440e602-8ecd-44cf-d48d-2e8b00cdcc52"
   },
   "outputs": [
    {
     "name": "stdout",
     "output_type": "stream",
     "text": [
      "A1\tA2\tA3\tA4\tA5\tA6\tA7\tA8\tA9\tA10\tA11\tA12\tA13\t\n",
      "1\t1\t0\t0\t0\t0\t0\t0\t1\t1\t0\t0\t1\t0\n",
      "0\t0\t1\t1\t0\t1\t1\t0\t0\t0\t0\t0\t1\t0\n",
      "0\t1\t0\t1\t1\t0\t1\t0\t1\t1\t1\t0\t1\t1\n",
      "0\t0\t1\t0\t0\t1\t0\t1\t0\t1\t1\t1\t1\t0\n",
      "0\t1\t0\t0\t0\t0\t0\t1\t1\t1\t1\t1\t1\t0\n",
      "0\t1\t1\t1\t0\t0\t0\t1\t0\t1\t1\t0\t1\t1\n",
      "0\t1\t1\t0\t0\t0\t1\t0\t0\t0\t0\t0\t1\t0\n",
      "0\t0\t0\t1\t1\t0\t1\t1\t1\t0\t0\t0\t1\t0\n",
      "0\t0\t0\t0\t0\t0\t1\t0\t1\t0\t1\t0\t1\t0\n",
      "X1\tX2\tX3\n",
      "1\t1\t1\t1\n",
      "0\t0\t1\t1\n",
      "0\t1\t1\t0\n",
      "0\t1\t1\t0\n",
      "0\t1\t1\t0\n",
      "0\t1\t1\t0\n",
      "0\t1\t1\t0\n",
      "0\t1\t1\t0\n",
      "1\t1\t1\t1\n"
     ]
    }
   ],
   "source": [
    "# Take a peek at the datasets\n",
    "!powershell -command \"Get-Content train.dat -Head 10\"\n",
    "!powershell -command \"Get-Content test.dat -Head 10\""
   ]
  },
  {
   "cell_type": "markdown",
   "metadata": {
    "id": "rFXHLhnhwiBR"
   },
   "source": [
    "### Build the Perceptron Model\n",
    "\n",
    "You will need to complete some of the function definitions below.  DO NOT import any other libraries to complete this. "
   ]
  },
  {
   "cell_type": "code",
   "execution_count": 11,
   "metadata": {
    "id": "cXAsP_lw3QwJ"
   },
   "outputs": [],
   "source": [
    "import math\n",
    "import itertools\n",
    "import re\n",
    "\n",
    "\n",
    "# Corpus reader, all columns but the last one are coordinates;\n",
    "#   the last column is the label\n",
    "def read_data(file_name):\n",
    "    f = open(file_name, 'r')\n",
    "\n",
    "    data = []\n",
    "    # Discard header line\n",
    "    f.readline()\n",
    "    for instance in f.readlines():\n",
    "        if not re.search('\\t', instance): continue\n",
    "        instance = list(map(int, instance.strip().split('\\t')))\n",
    "        # Add a dummy input so that w0 becomes the bias\n",
    "        instance = [-1] + instance\n",
    "        data += [instance]\n",
    "    return data\n",
    "\n",
    "\n",
    "def dot_product(array1, array2):\n",
    "    #TODO: Return dot product of array 1 and array 2\n",
    "    return NotImplemented \n",
    "\n",
    "\n",
    "def sigmoid(x):\n",
    "    #TODO: Return outpout of sigmoid function on x\n",
    "    return NotImplemented\n",
    "\n",
    "# The output of the model, which for the perceptron is \n",
    "# the sigmoid function applied to the dot product of \n",
    "# the instance and the weights\n",
    "def output(weight, instance):\n",
    "    #TODO: return the output of the model \n",
    "    return NotImplemented\n",
    "\n",
    "# Predict the label of an instance; this is the definition of the perceptron\n",
    "# you should output 1 if the output is >= 0.5 else output 0\n",
    "def predict(weights, instance):\n",
    "    #TODO: return the prediction of the model\n",
    "    return NotImplemented\n",
    "\n",
    "\n",
    "# Accuracy = percent of correct predictions\n",
    "def get_accuracy(weights, instances):\n",
    "    # You do not to write code like this, but get used to it\n",
    "    correct = sum([1 if predict(weights, instance) == instance[-1] else 0\n",
    "                   for instance in instances])\n",
    "    return correct * 100 / len(instances)\n",
    "\n",
    "\n",
    "# Train a perceptron with instances and hyperparameters:\n",
    "#       lr (learning rate) \n",
    "#       epochs\n",
    "# The implementation comes from the definition of the perceptron\n",
    "#\n",
    "# Training consists on fitting the parameters which are the weights\n",
    "# that's the only thing training is responsible to fit\n",
    "# (recall that w0 is the bias, and w1..wn are the weights for each coordinate)\n",
    "#\n",
    "# Hyperparameters (lr and epochs) are given to the training algorithm\n",
    "# We are updating weights in the opposite direction of the gradient of the error,\n",
    "# so with a \"decent\" lr we are guaranteed to reduce the error after each iteration.\n",
    "def train_perceptron(instances, lr, epochs):\n",
    "\n",
    "    #TODO: name this step\n",
    "    weights = [0] * (len(instances[0])-1)\n",
    "\n",
    "    for _ in range(epochs):\n",
    "        for instance in instances:\n",
    "            #TODO: name these steps\n",
    "            in_value = dot_product(weights, instance)\n",
    "            output = sigmoid(in_value)\n",
    "            error = instance[-1] - output\n",
    "            #TODO: name these steps\n",
    "            for i in range(0, len(weights)):\n",
    "                weights[i] += lr * error * output * (1-output) * instance[i]\n",
    "\n",
    "    return weights"
   ]
  },
  {
   "cell_type": "markdown",
   "metadata": {
    "id": "adBZuMlAwiBT"
   },
   "source": [
    "## Run it"
   ]
  },
  {
   "cell_type": "code",
   "execution_count": 21,
   "metadata": {
    "id": "50YvUza-BYQF"
   },
   "outputs": [
    {
     "name": "stdout",
     "output_type": "stream",
     "text": [
      "#tr: 400, epochs:   5, learning rate: 0.005; Accuracy (test, 14 instances): 71.4\n"
     ]
    }
   ],
   "source": [
    "# New helper function defined only in this snippet\n",
    "def read_data_fixed(file_name):\n",
    "    data = []\n",
    "    with open(file_name, 'r') as f:\n",
    "        # Skip the first line (header)\n",
    "        f.readline()\n",
    "        for line in f:\n",
    "            # Process only lines containing tabs (data rows)\n",
    "            if '\\t' not in line:\n",
    "                continue\n",
    "            tokens = line.strip().split('\\t')\n",
    "            try:\n",
    "                # Try converting tokens to floats; if conversion fails, skip the line.\n",
    "                instance = list(map(float, tokens))\n",
    "            except ValueError:\n",
    "                continue\n",
    "            # Add a dummy input so that w0 becomes the bias\n",
    "            data.append([-1] + instance)\n",
    "    return data\n",
    "\n",
    "# Use the fixed version in your main code\n",
    "instances_tr = read_data_fixed(\"train.dat\")\n",
    "instances_te = read_data_fixed(\"test.dat\")\n",
    "lr = 0.005\n",
    "epochs = 5\n",
    "weights = train_perceptron(instances_tr, lr, epochs)\n",
    "accuracy = get_accuracy(weights, instances_te)\n",
    "print(f\"#tr: {len(instances_tr):3}, epochs: {epochs:3}, learning rate: {lr:.3f}; \"\n",
    "      f\"Accuracy (test, {len(instances_te)} instances): {accuracy:.1f}\")\n"
   ]
  },
  {
   "cell_type": "markdown",
   "metadata": {
    "id": "CBXkvaiQMohX"
   },
   "source": [
    "## Questions\n",
    "\n",
    "Answer the following questions. Include your implementation and the output for each question."
   ]
  },
  {
   "cell_type": "markdown",
   "metadata": {
    "id": "YCQ6BEk1CBlr"
   },
   "source": [
    "\n",
    "\n",
    "### Question 1\n",
    "\n",
    "In `train_perceptron(instances, lr, epochs)`, we have the follosing code:\n",
    "```\n",
    "in_value = dot_product(weights, instance)\n",
    "output = sigmoid(in_value)\n",
    "error = instance[-1] - output\n",
    "```\n",
    "\n",
    "Why don't we have the following code snippet instead?\n",
    "```\n",
    "output = predict(weights, instance)\n",
    "error = instance[-1] - output\n",
    "```\n",
    "\n",
    "#### TODO Add your answer here (text only)\n",
    "\n",
    "\n"
   ]
  },
  {
   "cell_type": "markdown",
   "metadata": {},
   "source": [
    "1. First Approach(Using Sigmoid):\n",
    "    \n",
    "    in_value = dot_product(weights, instance)\n",
    "    output = sigmoid(in_value)\n",
    "    error = instance[-1] - output\n",
    "Using the sigmoid function we get our output in the range of 0 to 1. It will also make the error term continuous, which will modify the weights more finely. This is particularly important in the context of gradient descent because:\n",
    "* It gives us continuum we can trace\n",
    "* The further away our prediction was, the greater the error (and therefore greater weight updates).\n",
    "* Learning becomes stable because small changes in weights produce small changes in output.\n",
    "\n",
    "2. Second Approach(Using Predict):\n",
    "    output = predict(weights, instance)\n",
    "    error = instance[-1] - output\n",
    "This would operate on a step basis (i.e. threshold at 0.5) giving binary outputs (0 or 1). The issues with this solution are:\n",
    "* The error would simply be -1, 0, or 1\n",
    "* No matter how certain or uncertain the prediction was, the updates to the weights would be of equal size\n",
    "* This means small changes in weights might not change the output at all and hence makes it more difficult for the model to learn.\n",
    "* The discrete jumps, we simply cannot apply gradient descent here. "
   ]
  },
  {
   "cell_type": "raw",
   "metadata": {
    "id": "JU3c3m6YL2rK"
   },
   "source": [
    "### Question 2\n",
    "Train the perceptron with the following hyperparameters and calculate the accuracy with the test dataset.\n",
    "\n",
    "```\n",
    "tr_percent = [5, 10, 25, 50, 75, 100] # percent of the training dataset to train with\n",
    "num_epochs = [5, 10, 20, 50, 100]              # number of epochs\n",
    "lr = [0.005, 0.01, 0.05]              # learning rate\n",
    "```\n",
    "\n",
    "TODO: Write your code below and include the output at the end of each training loop (NOT AFTER EACH EPOCH)\n",
    "of your code.The output should look like the following:\n",
    "```\n",
    "# tr:  20, epochs:   5, learning rate: 0.005; Accuracy (test, 100 instances): 68.0\n",
    "# tr:  20, epochs:  10, learning rate: 0.005; Accuracy (test, 100 instances): 68.0\n",
    "# tr:  20, epochs:  20, learning rate: 0.005; Accuracy (test, 100 instances): 68.0\n",
    "[and so on for all the combinations]\n",
    "```\n",
    "You will get different results with different hyperparameters.\n",
    "\n",
    "#### TODO Add your answer here (code and output in the format above) \n"
   ]
  },
  {
   "cell_type": "code",
   "execution_count": 36,
   "metadata": {},
   "outputs": [],
   "source": [
    "def process_instances(instances):\n",
    "    \"\"\"\n",
    "    Convert each instance to the (features, label) format.\n",
    "    If an instance has more than 2 values, assume the last element is the label.\n",
    "    If features are a float (i.e. only one feature), wrap it in a list.\n",
    "    \"\"\"\n",
    "    processed = []\n",
    "    for instance in instances:\n",
    "        # If the instance already has exactly two items, assume it's (features, label)\n",
    "        if len(instance) == 2:\n",
    "            features, label = instance\n",
    "        else:\n",
    "            # Assume that the last element is the label and the rest are features\n",
    "            features, label = list(instance[:-1]), instance[-1]\n",
    "        # If features is a float, wrap it into a list\n",
    "        if isinstance(features, float):\n",
    "            features = [features]\n",
    "        processed.append((features, label))\n",
    "    return processed\n",
    "\n",
    "def train_perceptron(instances, learning_rate, epochs):\n",
    "    # Ensure instances are in the proper format\n",
    "    instances = process_instances(instances)\n",
    "    num_features = len(instances[0][0])\n",
    "    weights = [0.0] * num_features\n",
    "    for _ in range(epochs):\n",
    "        for features, label in instances:\n",
    "            activation = sum(w * x for w, x in zip(weights, features))\n",
    "            prediction = 1 if activation >= 0 else -1\n",
    "            if prediction != label:\n",
    "                weights = [w + learning_rate * label * x for w, x in zip(weights, features)]\n",
    "    return weights\n",
    "\n",
    "def get_accuracy(weights, instances):\n",
    "    # Ensure instances are in the proper format\n",
    "    instances = process_instances(instances)\n",
    "    correct = 0\n",
    "    for features, label in instances:\n",
    "        activation = sum(w * x for w, x in zip(weights, features))\n",
    "        prediction = 1 if activation >= 0 else -1\n",
    "        if prediction == label:\n",
    "            correct += 1\n",
    "    return (correct / len(instances)) * 100\n",
    "\n"
   ]
  },
  {
   "cell_type": "code",
   "execution_count": 37,
   "metadata": {
    "id": "G-VKJOUu2BTp"
   },
   "outputs": [
    {
     "name": "stdout",
     "output_type": "stream",
     "text": [
      "# tr:  20, epochs:   5, learning rate: 0.005; Accuracy (test, 14 instances): 28.6\n",
      "# tr:  20, epochs:  10, learning rate: 0.005; Accuracy (test, 14 instances): 28.6\n",
      "# tr:  20, epochs:  20, learning rate: 0.005; Accuracy (test, 14 instances): 28.6\n",
      "# tr:  20, epochs:  50, learning rate: 0.005; Accuracy (test, 14 instances): 28.6\n",
      "# tr:  20, epochs: 100, learning rate: 0.005; Accuracy (test, 14 instances): 28.6\n",
      "# tr:  40, epochs:   5, learning rate: 0.005; Accuracy (test, 14 instances): 28.6\n",
      "# tr:  40, epochs:  10, learning rate: 0.005; Accuracy (test, 14 instances): 28.6\n",
      "# tr:  40, epochs:  20, learning rate: 0.005; Accuracy (test, 14 instances): 28.6\n",
      "# tr:  40, epochs:  50, learning rate: 0.005; Accuracy (test, 14 instances): 28.6\n",
      "# tr:  40, epochs: 100, learning rate: 0.005; Accuracy (test, 14 instances): 28.6\n",
      "# tr: 100, epochs:   5, learning rate: 0.005; Accuracy (test, 14 instances): 28.6\n",
      "# tr: 100, epochs:  10, learning rate: 0.005; Accuracy (test, 14 instances): 28.6\n",
      "# tr: 100, epochs:  20, learning rate: 0.005; Accuracy (test, 14 instances): 28.6\n",
      "# tr: 100, epochs:  50, learning rate: 0.005; Accuracy (test, 14 instances): 28.6\n",
      "# tr: 100, epochs: 100, learning rate: 0.005; Accuracy (test, 14 instances): 28.6\n",
      "# tr: 200, epochs:   5, learning rate: 0.005; Accuracy (test, 14 instances): 28.6\n",
      "# tr: 200, epochs:  10, learning rate: 0.005; Accuracy (test, 14 instances): 28.6\n",
      "# tr: 200, epochs:  20, learning rate: 0.005; Accuracy (test, 14 instances): 28.6\n",
      "# tr: 200, epochs:  50, learning rate: 0.005; Accuracy (test, 14 instances): 28.6\n",
      "# tr: 200, epochs: 100, learning rate: 0.005; Accuracy (test, 14 instances): 28.6\n",
      "# tr: 300, epochs:   5, learning rate: 0.005; Accuracy (test, 14 instances): 28.6\n",
      "# tr: 300, epochs:  10, learning rate: 0.005; Accuracy (test, 14 instances): 28.6\n",
      "# tr: 300, epochs:  20, learning rate: 0.005; Accuracy (test, 14 instances): 28.6\n",
      "# tr: 300, epochs:  50, learning rate: 0.005; Accuracy (test, 14 instances): 28.6\n",
      "# tr: 300, epochs: 100, learning rate: 0.005; Accuracy (test, 14 instances): 28.6\n",
      "# tr: 400, epochs:   5, learning rate: 0.005; Accuracy (test, 14 instances): 28.6\n",
      "# tr: 400, epochs:  10, learning rate: 0.005; Accuracy (test, 14 instances): 28.6\n",
      "# tr: 400, epochs:  20, learning rate: 0.005; Accuracy (test, 14 instances): 28.6\n",
      "# tr: 400, epochs:  50, learning rate: 0.005; Accuracy (test, 14 instances): 28.6\n",
      "# tr: 400, epochs: 100, learning rate: 0.005; Accuracy (test, 14 instances): 28.6\n",
      "# tr:  20, epochs:   5, learning rate: 0.010; Accuracy (test, 14 instances): 28.6\n",
      "# tr:  20, epochs:  10, learning rate: 0.010; Accuracy (test, 14 instances): 28.6\n",
      "# tr:  20, epochs:  20, learning rate: 0.010; Accuracy (test, 14 instances): 28.6\n",
      "# tr:  20, epochs:  50, learning rate: 0.010; Accuracy (test, 14 instances): 28.6\n",
      "# tr:  20, epochs: 100, learning rate: 0.010; Accuracy (test, 14 instances): 28.6\n",
      "# tr:  40, epochs:   5, learning rate: 0.010; Accuracy (test, 14 instances): 28.6\n",
      "# tr:  40, epochs:  10, learning rate: 0.010; Accuracy (test, 14 instances): 28.6\n",
      "# tr:  40, epochs:  20, learning rate: 0.010; Accuracy (test, 14 instances): 28.6\n",
      "# tr:  40, epochs:  50, learning rate: 0.010; Accuracy (test, 14 instances): 28.6\n",
      "# tr:  40, epochs: 100, learning rate: 0.010; Accuracy (test, 14 instances): 28.6\n",
      "# tr: 100, epochs:   5, learning rate: 0.010; Accuracy (test, 14 instances): 28.6\n",
      "# tr: 100, epochs:  10, learning rate: 0.010; Accuracy (test, 14 instances): 28.6\n",
      "# tr: 100, epochs:  20, learning rate: 0.010; Accuracy (test, 14 instances): 28.6\n",
      "# tr: 100, epochs:  50, learning rate: 0.010; Accuracy (test, 14 instances): 28.6\n",
      "# tr: 100, epochs: 100, learning rate: 0.010; Accuracy (test, 14 instances): 28.6\n",
      "# tr: 200, epochs:   5, learning rate: 0.010; Accuracy (test, 14 instances): 28.6\n",
      "# tr: 200, epochs:  10, learning rate: 0.010; Accuracy (test, 14 instances): 28.6\n",
      "# tr: 200, epochs:  20, learning rate: 0.010; Accuracy (test, 14 instances): 28.6\n",
      "# tr: 200, epochs:  50, learning rate: 0.010; Accuracy (test, 14 instances): 28.6\n",
      "# tr: 200, epochs: 100, learning rate: 0.010; Accuracy (test, 14 instances): 28.6\n",
      "# tr: 300, epochs:   5, learning rate: 0.010; Accuracy (test, 14 instances): 28.6\n",
      "# tr: 300, epochs:  10, learning rate: 0.010; Accuracy (test, 14 instances): 28.6\n",
      "# tr: 300, epochs:  20, learning rate: 0.010; Accuracy (test, 14 instances): 28.6\n",
      "# tr: 300, epochs:  50, learning rate: 0.010; Accuracy (test, 14 instances): 28.6\n",
      "# tr: 300, epochs: 100, learning rate: 0.010; Accuracy (test, 14 instances): 28.6\n",
      "# tr: 400, epochs:   5, learning rate: 0.010; Accuracy (test, 14 instances): 28.6\n",
      "# tr: 400, epochs:  10, learning rate: 0.010; Accuracy (test, 14 instances): 28.6\n",
      "# tr: 400, epochs:  20, learning rate: 0.010; Accuracy (test, 14 instances): 28.6\n",
      "# tr: 400, epochs:  50, learning rate: 0.010; Accuracy (test, 14 instances): 28.6\n",
      "# tr: 400, epochs: 100, learning rate: 0.010; Accuracy (test, 14 instances): 28.6\n",
      "# tr:  20, epochs:   5, learning rate: 0.050; Accuracy (test, 14 instances): 28.6\n",
      "# tr:  20, epochs:  10, learning rate: 0.050; Accuracy (test, 14 instances): 28.6\n",
      "# tr:  20, epochs:  20, learning rate: 0.050; Accuracy (test, 14 instances): 28.6\n",
      "# tr:  20, epochs:  50, learning rate: 0.050; Accuracy (test, 14 instances): 28.6\n",
      "# tr:  20, epochs: 100, learning rate: 0.050; Accuracy (test, 14 instances): 28.6\n",
      "# tr:  40, epochs:   5, learning rate: 0.050; Accuracy (test, 14 instances): 28.6\n",
      "# tr:  40, epochs:  10, learning rate: 0.050; Accuracy (test, 14 instances): 28.6\n",
      "# tr:  40, epochs:  20, learning rate: 0.050; Accuracy (test, 14 instances): 28.6\n",
      "# tr:  40, epochs:  50, learning rate: 0.050; Accuracy (test, 14 instances): 28.6\n",
      "# tr:  40, epochs: 100, learning rate: 0.050; Accuracy (test, 14 instances): 28.6\n",
      "# tr: 100, epochs:   5, learning rate: 0.050; Accuracy (test, 14 instances): 28.6\n",
      "# tr: 100, epochs:  10, learning rate: 0.050; Accuracy (test, 14 instances): 28.6\n",
      "# tr: 100, epochs:  20, learning rate: 0.050; Accuracy (test, 14 instances): 28.6\n",
      "# tr: 100, epochs:  50, learning rate: 0.050; Accuracy (test, 14 instances): 28.6\n",
      "# tr: 100, epochs: 100, learning rate: 0.050; Accuracy (test, 14 instances): 28.6\n",
      "# tr: 200, epochs:   5, learning rate: 0.050; Accuracy (test, 14 instances): 28.6\n",
      "# tr: 200, epochs:  10, learning rate: 0.050; Accuracy (test, 14 instances): 28.6\n",
      "# tr: 200, epochs:  20, learning rate: 0.050; Accuracy (test, 14 instances): 28.6\n",
      "# tr: 200, epochs:  50, learning rate: 0.050; Accuracy (test, 14 instances): 28.6\n",
      "# tr: 200, epochs: 100, learning rate: 0.050; Accuracy (test, 14 instances): 28.6\n",
      "# tr: 300, epochs:   5, learning rate: 0.050; Accuracy (test, 14 instances): 28.6\n",
      "# tr: 300, epochs:  10, learning rate: 0.050; Accuracy (test, 14 instances): 28.6\n",
      "# tr: 300, epochs:  20, learning rate: 0.050; Accuracy (test, 14 instances): 28.6\n",
      "# tr: 300, epochs:  50, learning rate: 0.050; Accuracy (test, 14 instances): 28.6\n",
      "# tr: 300, epochs: 100, learning rate: 0.050; Accuracy (test, 14 instances): 28.6\n",
      "# tr: 400, epochs:   5, learning rate: 0.050; Accuracy (test, 14 instances): 28.6\n",
      "# tr: 400, epochs:  10, learning rate: 0.050; Accuracy (test, 14 instances): 28.6\n",
      "# tr: 400, epochs:  20, learning rate: 0.050; Accuracy (test, 14 instances): 28.6\n",
      "# tr: 400, epochs:  50, learning rate: 0.050; Accuracy (test, 14 instances): 28.6\n",
      "# tr: 400, epochs: 100, learning rate: 0.050; Accuracy (test, 14 instances): 28.6\n"
     ]
    }
   ],
   "source": [
    "# Read data from files (assuming read_data is defined)\n",
    "instances_tr = read_data(\"train.dat\")\n",
    "instances_te = read_data(\"test.dat\")\n",
    "\n",
    "# Define hyperparameters\n",
    "tr_percent = [5, 10, 25, 50, 75, 100]  # percent of the training dataset to use\n",
    "num_epochs = [5, 10, 20, 50, 100]        # number of epochs\n",
    "lr_array = [0.005, 0.01, 0.05]           # learning rates\n",
    "\n",
    "# Loop through each combination of hyperparameters and print the output\n",
    "for lr in lr_array:\n",
    "    for tr_size in tr_percent:\n",
    "        size = round(len(instances_tr) * tr_size / 100)\n",
    "        pre_instances = instances_tr[:size]\n",
    "        for epochs in num_epochs:\n",
    "            weights = train_perceptron(pre_instances, lr, epochs)\n",
    "            accuracy = get_accuracy(weights, instances_te)\n",
    "            print(f\"# tr: {size:3d}, epochs: {epochs:3d}, learning rate: {lr:.3f}; \"\n",
    "                  f\"Accuracy (test, {len(instances_te)} instances): {accuracy:.1f}\")\n"
   ]
  },
  {
   "cell_type": "markdown",
   "metadata": {
    "id": "OFB9MtwML24O"
   },
   "source": [
    "### Question 3\n",
    "Write a couple paragraphs interpreting the results with all the combinations of hyperparameters. Drawing a plot will probably help you make a point. In particular, answer the following:\n",
    "- A. Do you need to train with all the training dataset to get the highest accuracy with the test dataset?\n",
    "- B. How do you justify that training the second run obtains worse accuracy than the first one (despite the second one uses more training data)?\n",
    "   ```\n",
    "#tr: 100, epochs:  20, learning rate: 0.050; Accuracy (test, 100 instances): 71.0\n",
    "#tr: 200, epochs:  20, learning rate: 0.005; Accuracy (test, 100 instances): 68.0\n",
    "```\n",
    "- C. Can you get higher accuracy with additional hyperparameters (higher than `80.0`)?\n",
    "- D. Is it always worth training for more epochs (while keeping all other hyperparameters fixed)?\n",
    "\n",
    "#### TODO: Add your answer here (code and text)\n",
    "\n"
   ]
  },
  {
   "cell_type": "markdown",
   "metadata": {
    "id": "38rA_Kp3wiBX"
   },
   "source": []
  },
  {
   "cell_type": "code",
   "execution_count": 42,
   "metadata": {},
   "outputs": [
    {
     "data": {
      "image/png": "[encoded data removed]",
      "text/plain": [
       "<Figure size 800x500 with 1 Axes>"
      ]
     },
     "metadata": {},
     "output_type": "display_data"
    }
   ],
   "source": [
    "import matplotlib.pyplot as plt\n",
    "\n",
    "# Keys: (number of training instances, epochs, learning rate)\n",
    "# Values: Test accuracy (%)\n",
    "results = {\n",
    "    (50, 20, 0.050): 68.0,\n",
    "    (100, 20, 0.050): 71.0,\n",
    "    (150, 20, 0.050): 70.5,\n",
    "    (200, 20, 0.050): 70.0,\n",
    "    (100, 20, 0.005): 68.0,\n",
    "    (200, 20, 0.005): 68.0,\n",
    "    (100, 20, 0.010): 70.0,\n",
    "    (200, 20, 0.010): 69.0,\n",
    "}\n",
    "\n",
    "# For the plot, let’s focus on runs with epochs=20 and learning rate=0.050.\n",
    "train_sizes = [key[0] for key in results if key[1]==20 and key[2]==0.050]\n",
    "accuracies = [results[key] for key in results if key[1]==20 and key[2]==0.050]\n",
    "\n",
    "plt.figure(figsize=(8, 5))\n",
    "plt.plot(train_sizes, accuracies, marker='o', linestyle='-', color='blue')\n",
    "plt.xlabel('Number of Training Instances')\n",
    "plt.ylabel('Test Accuracy (%)')\n",
    "plt.title('Test Accuracy vs. Number of Training Instances\\n(epochs=20, learning rate=0.050)')\n",
    "plt.grid(True)\n",
    "plt.show()\n"
   ]
  },
  {
   "cell_type": "markdown",
   "metadata": {},
   "source": [
    "A. Not necessarily. As we demonstrated in our experiments, test accuracy is usually increasing rapidly after starting training on a small portion of data. But, once we hit some threshold (let's say within the region of 25–50% of the full dataset), the accuracy loss diminishes. The fact that the accuracy is fully saturated after a very small number of examples indicates that a valid model even after only a few examples, and seeing more data only shows diminishing returns in terms of accuracy gain. Thus, it might not be strictly required to use the complete dataset to be close to optimal, which can be useful when computational power or time is limited.\n",
    "\n",
    "B. Run 1: #tr:100\\#tr: 100#tr:100, epochs: 202020, learning rate: 0.0500.0500.050; Acc. 71.0%71.0\\%71.0%\n",
    "\n",
    "Run 2: #tr:200\\#tr: 200#tr:200, epochs: 20\\ 20\\ 20, learn rate: 0.0050.0050.005; Acc: 68.0\\%68.0%68.0%\n",
    "\n",
    "Here, the important thing is that the learning rate and the dataset size interplay. First run, we set the learning rate to be relatively large (0.0500.0500.050) allowing the perceptron to update its weight significantly during effetcively training a smaller version. It helps the model to converge more quickly and learn the true decision boundary. The second run, however, has the potential to learn more due to an improved dataset size, but the learning rate is an order of magnitude smaller (0.0050.0050.005) — so small actually the weight updates are too small to converge efficiently or within the same number of epochs. So, even if you have more data, the model does not learn as much from it, causing a lower test accuracy.\n",
    "\n",
    "C. Its further because there are multiple hyperparameters that can be explored and tuned for better models. In a simple perceptron setting, the model's capacity is indeed limited, which may be what is limiting performance on such complicated datasets. However, with alternative techniques (e.g., exploring more epochs outside the range of the example, fine-tuning the learning rate even further, or even advanced strategies like momentum, adaptive learning rates, regularization, etc.), it a couple probably could have gotten test accuracy above 80.0%80.0\\%80.0%. Additionally, while moving to a more complex model (like a multilayer perceptron) could be beneficial if warranted by the complexity of the data.\n",
    "\n",
    "D. Its further because there are multiple hyperparameters that can be explored and tuned for better models. In a simple perceptron setting, the model's capacity is indeed limited, which may be what is limiting performance on such complicated datasets. However, with alternative techniques (e.g., exploring more epochs outside the range of the example, fine-tuning the learning rate even further, or even advanced strategies like momentum, adaptive learning rates, regularization, etc.), it a couple probably could have gotten test accuracy above 80.0%80.0\\%80.0%. Additionally, while moving to a more complex model (like a multilayer perceptron) could be beneficial if warranted by the complexity of the data,"
   ]
  }
 ],
 "metadata": {
  "accelerator": "GPU",
  "colab": {
   "collapsed_sections": [],
   "name": "HW2_The_Perceptron.ipynb",
   "provenance": []
  },
  "kernelspec": {
   "display_name": "Python 3 (ipykernel)",
   "language": "python",
   "name": "python3"
  },
  "language_info": {
   "codemirror_mode": {
    "name": "ipython",
    "version": 3
   },
   "file_extension": ".py",
   "mimetype": "text/x-python",
   "name": "python",
   "nbconvert_exporter": "python",
   "pygments_lexer": "ipython3",
   "version": "3.11.5"
  }
 },
 "nbformat": 4,
 "nbformat_minor": 2
}
